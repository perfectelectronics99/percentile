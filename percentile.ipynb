{
 "cells": [
  {
   "cell_type": "markdown",
   "metadata": {},
   "source": [
    "# PERCENTILE"
   ]
  },
  {
   "cell_type": "markdown",
   "metadata": {},
   "source": [
    "### A percentile (or a centile) is a measure used in statistics indicating the value below which a given percentage of observations in a group of observations falls. For example, the 20th percentile is the value (or score) below which 20% of the observations may be found. Equivalently, 80% of the observations are found above the 20th percentile."
   ]
  },
  {
   "cell_type": "code",
   "execution_count": 35,
   "metadata": {},
   "outputs": [],
   "source": [
    "import numpy\n",
    "\n",
    "ages = [5,48,94,3,1,8,6,7,55,44,25,69,45,78,82,91,25,48,3,44,2,33,5] ."
   ]
  },
  {
   "cell_type": "code",
   "execution_count": 39,
   "metadata": {},
   "outputs": [
    {
     "name": "stdout",
     "output_type": "stream",
     "text": [
      "81.19999999999999\n"
     ]
    }
   ],
   "source": [
    "x = numpy.percentile(ages,90)\n",
    "print(x)"
   ]
  },
  {
   "cell_type": "code",
   "execution_count": 42,
   "metadata": {},
   "outputs": [
    {
     "name": "stdout",
     "output_type": "stream",
     "text": [
      "marks :  [20, 2, 7, 1, 34, 45, 76, 89, 20, 2]\n",
      "50th percentile of marks :  77.3\n"
     ]
    }
   ],
   "source": [
    "+\t\n",
    "import numpy as np \n",
    "\t\n",
    "# 1D array \n",
    "marks = [20, 2, 7, 1, 34,45,76,89,20,2] \n",
    "print(\"marks : \", marks) \n",
    "print(\"50th percentile of marks : \", \n",
    "\tnp.percentile(marks, 90)) \n"
   ]
  },
  {
   "cell_type": "code",
   "execution_count": 43,
   "metadata": {},
   "outputs": [
    {
     "name": "stdout",
     "output_type": "stream",
     "text": [
      "25th percentile of arr :  3.25\n"
     ]
    }
   ],
   "source": [
    "print(\"25th percentile of arr : \", \n",
    "\tnp.percentile(marks, 25)) \n"
   ]
  },
  {
   "cell_type": "markdown",
   "metadata": {},
   "source": [
    "#### it will give 75th percentile of data"
   ]
  },
  {
   "cell_type": "code",
   "execution_count": 44,
   "metadata": {},
   "outputs": [
    {
     "name": "stdout",
     "output_type": "stream",
     "text": [
      "75th percentile of marks :  25.0\n"
     ]
    }
   ],
   "source": [
    "print(\"75th percentile of marks : \", \n",
    "\tnp.percentile(arr, 75)) \n"
   ]
  },
  {
   "cell_type": "code",
   "execution_count": 45,
   "metadata": {},
   "outputs": [
    {
     "name": "stdout",
     "output_type": "stream",
     "text": [
      "[[14, 17, 12, 33, 44], [15, 6, 27, 8, 19], [23, 2, 54, 1, 4]]\n"
     ]
    }
   ],
   "source": [
    "# Python Program illustrating \n",
    "# numpy.percentile() method \n",
    "\n",
    "import numpy as np \n",
    "\n",
    "                                                                            # 2D array \n",
    "new = [[14, 17, 12, 33, 44], \n",
    "\t   [15, 6, 27, 8, 19], \n",
    "\t   [23, 2, 54, 1, 4,]] \n",
    "print( new) "
   ]
  },
  {
   "cell_type": "code",
   "execution_count": 47,
   "metadata": {},
   "outputs": [
    {
     "name": "stdout",
     "output_type": "stream",
     "text": [
      "\n",
      "50th Percentile of arr, axis = None :  54.0\n",
      "0th Percentile of arr, axis = None :  1.0\n"
     ]
    }
   ],
   "source": [
    "print(\"\\n50th Percentile of arr, axis = None : \", \n",
    "\tnp.percentile(new, 100 )) \n",
    "print(\"0th Percentile of arr, axis = None : \", \n",
    "\tnp.percentile(new, 0)) "
   ]
  },
  {
   "cell_type": "code",
   "execution_count": 48,
   "metadata": {},
   "outputs": [
    {
     "name": "stdout",
     "output_type": "stream",
     "text": [
      "\n",
      "axis = 0 :  [15.  6. 27.  8. 19.]\n",
      "axis = 0 :  [14.  2. 12.  1.  4.]\n",
      "[[14, 17, 12, 33, 44], [15, 6, 27, 8, 19], [23, 2, 54, 1, 4]]\n"
     ]
    }
   ],
   "source": [
    "print(\"\\naxis = 0 : \", \n",
    "\tnp.percentile(new, 50, axis =0)) \n",
    "print(\"axis = 0 : \", \n",
    "\tnp.percentile(new, 0, axis =0)) \n",
    "print(new)"
   ]
  },
  {
   "cell_type": "code",
   "execution_count": 49,
   "metadata": {},
   "outputs": [
    {
     "name": "stdout",
     "output_type": "stream",
     "text": [
      "\n",
      " axis = 1 :  [17. 15.  4.]\n",
      "axis = 1 :  [12.  6.  1.]\n",
      "\n"
     ]
    }
   ],
   "source": [
    "print(\"\\n axis = 1 : \", \n",
    "\tnp.percentile(new, 50, axis =1)) \n",
    "print(\"axis = 1 : \", \n",
    "\tnp.percentile(new, 0, axis =1)) \n",
    "print(  )"
   ]
  },
  {
   "cell_type": "code",
   "execution_count": null,
   "metadata": {},
   "outputs": [],
   "source": []
  }
 ],
 "metadata": {
  "kernelspec": {
   "display_name": "Python 3",
   "language": "python",
   "name": "python3"
  },
  "language_info": {
   "codemirror_mode": {
    "name": "ipython",
    "version": 3
   },
   "file_extension": ".py",
   "mimetype": "text/x-python",
   "name": "python",
   "nbconvert_exporter": "python",
   "pygments_lexer": "ipython3",
   "version": "3.7.4"
  }
 },
 "nbformat": 4,
 "nbformat_minor": 2
}
